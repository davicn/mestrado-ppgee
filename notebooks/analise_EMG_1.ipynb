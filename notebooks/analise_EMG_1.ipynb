{
 "cells": [
  {
   "cell_type": "code",
   "execution_count": 1,
   "metadata": {},
   "outputs": [
    {
     "output_type": "execute_result",
     "data": {
      "text/plain": "'/home/davi/Documentos/Github/mestrado-ppgee/'"
     },
     "metadata": {},
     "execution_count": 1
    }
   ],
   "source": [
    "import numpy as np \n",
    "import pandas as pd \n",
    "import os \n",
    "\n",
    "path = os.getcwd().replace('notebooks','')\n",
    "path"
   ]
  },
  {
   "cell_type": "code",
   "execution_count": 6,
   "metadata": {},
   "outputs": [],
   "source": [
    "c1 = pd.DataFrame(\n",
    "    data=np.load(path+'data/emg_train_seizure.npy'),\n",
    "    columns=['path','inicio','fim','tipo','freq','tempo','montage']\n",
    ")\n",
    "\n",
    "c2 = pd.DataFrame(\n",
    "    data=np.load(path+'data/emg_train_n_seizure.npy'),\n",
    "    columns=['path','freq','tempo','montage']\n",
    "\n",
    ")"
   ]
  },
  {
   "cell_type": "code",
   "execution_count": 10,
   "metadata": {},
   "outputs": [
    {
     "output_type": "stream",
     "name": "stdout",
     "text": "(array([250, 256, 512, 1000], dtype=object), array([190, 448,  16,   2]))\n(array([250, 256, 512, 1000], dtype=object), array([187, 759,  72,   2]))\n"
    }
   ],
   "source": [
    "# Frequência\n",
    "\n",
    "\n",
    "print(np.unique(c1['freq'],return_counts=True))\n",
    "print(np.unique(c2['freq'],return_counts=True))\n"
   ]
  },
  {
   "cell_type": "code",
   "execution_count": 12,
   "metadata": {},
   "outputs": [
    {
     "output_type": "execute_result",
     "data": {
      "text/plain": "(array(['CPSZ', 'FNSZ', 'GNSZ', 'TNSZ'], dtype=object),\n array([ 66, 251, 114,  17]))"
     },
     "metadata": {},
     "execution_count": 12
    }
   ],
   "source": [
    "# Tipo\n",
    "\n",
    "np.unique(c1[c1['freq']==256].loc[:,'tipo'],return_counts=True)"
   ]
  },
  {
   "cell_type": "code",
   "execution_count": null,
   "metadata": {},
   "outputs": [],
   "source": []
  }
 ],
 "metadata": {
  "language_info": {
   "codemirror_mode": {
    "name": "ipython",
    "version": 3
   },
   "file_extension": ".py",
   "mimetype": "text/x-python",
   "name": "python",
   "nbconvert_exporter": "python",
   "pygments_lexer": "ipython3",
   "version": "3.7.6-final"
  },
  "orig_nbformat": 2,
  "kernelspec": {
   "name": "python37464bitbaseconda0d4e73dbffd14058a7eacf93a44c56a7",
   "display_name": "Python 3.7.4 64-bit ('base': conda)"
  }
 },
 "nbformat": 4,
 "nbformat_minor": 2
}