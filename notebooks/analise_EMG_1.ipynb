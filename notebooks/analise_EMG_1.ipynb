{
 "cells": [
  {
   "cell_type": "code",
   "execution_count": 1,
   "metadata": {},
   "outputs": [
    {
     "output_type": "execute_result",
     "data": {
      "text/plain": "'/home/davi/Documentos/Github/mestrado-ppgee/'"
     },
     "metadata": {},
     "execution_count": 1
    }
   ],
   "source": [
    "import numpy as np \n",
    "import pandas as pd \n",
    "import os \n",
    "\n",
    "path = os.getcwd().replace('notebooks','')\n",
    "path"
   ]
  },
  {
   "cell_type": "code",
   "execution_count": 6,
   "metadata": {},
   "outputs": [],
   "source": [
    "c1 = pd.DataFrame(\n",
    "    data=np.load(path+'data/emg_train_seizure.npy'),\n",
    "    columns=['path','inicio','fim','tipo','freq','tempo','montage']\n",
    ")\n",
    "\n",
    "c2 = pd.DataFrame(\n",
    "    data=np.load(path+'data/emg_train_n_seizure.npy'),\n",
    "    columns=['path','freq','tempo','montage']\n",
    "\n",
    ")"
   ]
  },
  {
   "cell_type": "code",
   "execution_count": 10,
   "metadata": {},
   "outputs": [
    {
     "output_type": "stream",
     "name": "stdout",
     "text": "(array([250, 256, 512, 1000], dtype=object), array([190, 448,  16,   2]))\n(array([250, 256, 512, 1000], dtype=object), array([187, 759,  72,   2]))\n"
    }
   ],
   "source": [
    "# Frequência\n",
    "\n",
    "\n",
    "print(np.unique(c1['freq'],return_counts=True))\n",
    "print(np.unique(c2['freq'],return_counts=True))\n"
   ]
  },
  {
   "cell_type": "code",
   "execution_count": 12,
   "metadata": {},
   "outputs": [
    {
     "output_type": "execute_result",
     "data": {
      "text/plain": "(array(['CPSZ', 'FNSZ', 'GNSZ', 'TNSZ'], dtype=object),\n array([ 66, 251, 114,  17]))"
     },
     "metadata": {},
     "execution_count": 12
    }
   ],
   "source": [
    "# Tipo\n",
    "\n",
    "np.unique(c1[c1['freq']==256].loc[:,'tipo'],return_counts=True)"
   ]
  },
  {
   "cell_type": "code",
   "execution_count": 19,
   "metadata": {},
   "outputs": [
    {
     "output_type": "execute_result",
     "data": {
      "text/plain": "                                                  path   inicio      fim  \\\n0    train/01_tcp_ar/044/00004456/s015_2014_06_19/0...  325.023  353.969   \n1    train/01_tcp_ar/044/00004456/s015_2014_06_19/0...  454.129  470.121   \n2    train/01_tcp_ar/044/00004456/s015_2014_06_19/0...  487.027  501.066   \n3    train/01_tcp_ar/044/00004456/s015_2014_06_19/0...  523.156  550.106   \n4    train/01_tcp_ar/044/00004456/s015_2014_06_19/0...  694.223  710.082   \n..                                                 ...      ...      ...   \n109  train/03_tcp_ar_a/070/00007032/s007_2011_02_10...  494.004      600   \n110  train/03_tcp_ar_a/091/00009162/s002_2012_04_09...   27.832       60   \n111  train/03_tcp_ar_a/091/00009162/s002_2012_04_09...  509.945  527.484   \n112  train/03_tcp_ar_a/119/00011999/s007_2014_11_09...  466.269  541.203   \n113  train/03_tcp_ar_a/119/00011999/s007_2014_11_09...  496.168  567.918   \n\n     tipo freq tempo                                            montage  \n0    GNSZ  256  1113  [EEG FP1-REF, EEG FP2-REF, EEG F3-REF, EEG F4-...  \n1    GNSZ  256  1113  [EEG FP1-REF, EEG FP2-REF, EEG F3-REF, EEG F4-...  \n2    GNSZ  256  1113  [EEG FP1-REF, EEG FP2-REF, EEG F3-REF, EEG F4-...  \n3    GNSZ  256  1113  [EEG FP1-REF, EEG FP2-REF, EEG F3-REF, EEG F4-...  \n4    GNSZ  256  1113  [EEG FP1-REF, EEG FP2-REF, EEG F3-REF, EEG F4-...  \n..    ...  ...   ...                                                ...  \n109  GNSZ  256   601  [EEG FP1-REF, EEG FP2-REF, EEG F3-REF, EEG F4-...  \n110  GNSZ  256  1075  [EEG FP1-REF, EEG FP2-REF, EEG F3-REF, EEG F4-...  \n111  GNSZ  256  1075  [EEG FP1-REF, EEG FP2-REF, EEG F3-REF, EEG F4-...  \n112  GNSZ  256  1676  [EEG FP1-REF, EEG FP2-REF, EEG F3-REF, EEG F4-...  \n113  GNSZ  256  1212  [EEG FP1-REF, EEG FP2-REF, EEG F3-REF, EEG F4-...  \n\n[114 rows x 7 columns]",
      "text/html": "<div>\n<style scoped>\n    .dataframe tbody tr th:only-of-type {\n        vertical-align: middle;\n    }\n\n    .dataframe tbody tr th {\n        vertical-align: top;\n    }\n\n    .dataframe thead th {\n        text-align: right;\n    }\n</style>\n<table border=\"1\" class=\"dataframe\">\n  <thead>\n    <tr style=\"text-align: right;\">\n      <th></th>\n      <th>path</th>\n      <th>inicio</th>\n      <th>fim</th>\n      <th>tipo</th>\n      <th>freq</th>\n      <th>tempo</th>\n      <th>montage</th>\n    </tr>\n  </thead>\n  <tbody>\n    <tr>\n      <th>0</th>\n      <td>train/01_tcp_ar/044/00004456/s015_2014_06_19/0...</td>\n      <td>325.023</td>\n      <td>353.969</td>\n      <td>GNSZ</td>\n      <td>256</td>\n      <td>1113</td>\n      <td>[EEG FP1-REF, EEG FP2-REF, EEG F3-REF, EEG F4-...</td>\n    </tr>\n    <tr>\n      <th>1</th>\n      <td>train/01_tcp_ar/044/00004456/s015_2014_06_19/0...</td>\n      <td>454.129</td>\n      <td>470.121</td>\n      <td>GNSZ</td>\n      <td>256</td>\n      <td>1113</td>\n      <td>[EEG FP1-REF, EEG FP2-REF, EEG F3-REF, EEG F4-...</td>\n    </tr>\n    <tr>\n      <th>2</th>\n      <td>train/01_tcp_ar/044/00004456/s015_2014_06_19/0...</td>\n      <td>487.027</td>\n      <td>501.066</td>\n      <td>GNSZ</td>\n      <td>256</td>\n      <td>1113</td>\n      <td>[EEG FP1-REF, EEG FP2-REF, EEG F3-REF, EEG F4-...</td>\n    </tr>\n    <tr>\n      <th>3</th>\n      <td>train/01_tcp_ar/044/00004456/s015_2014_06_19/0...</td>\n      <td>523.156</td>\n      <td>550.106</td>\n      <td>GNSZ</td>\n      <td>256</td>\n      <td>1113</td>\n      <td>[EEG FP1-REF, EEG FP2-REF, EEG F3-REF, EEG F4-...</td>\n    </tr>\n    <tr>\n      <th>4</th>\n      <td>train/01_tcp_ar/044/00004456/s015_2014_06_19/0...</td>\n      <td>694.223</td>\n      <td>710.082</td>\n      <td>GNSZ</td>\n      <td>256</td>\n      <td>1113</td>\n      <td>[EEG FP1-REF, EEG FP2-REF, EEG F3-REF, EEG F4-...</td>\n    </tr>\n    <tr>\n      <th>...</th>\n      <td>...</td>\n      <td>...</td>\n      <td>...</td>\n      <td>...</td>\n      <td>...</td>\n      <td>...</td>\n      <td>...</td>\n    </tr>\n    <tr>\n      <th>109</th>\n      <td>train/03_tcp_ar_a/070/00007032/s007_2011_02_10...</td>\n      <td>494.004</td>\n      <td>600</td>\n      <td>GNSZ</td>\n      <td>256</td>\n      <td>601</td>\n      <td>[EEG FP1-REF, EEG FP2-REF, EEG F3-REF, EEG F4-...</td>\n    </tr>\n    <tr>\n      <th>110</th>\n      <td>train/03_tcp_ar_a/091/00009162/s002_2012_04_09...</td>\n      <td>27.832</td>\n      <td>60</td>\n      <td>GNSZ</td>\n      <td>256</td>\n      <td>1075</td>\n      <td>[EEG FP1-REF, EEG FP2-REF, EEG F3-REF, EEG F4-...</td>\n    </tr>\n    <tr>\n      <th>111</th>\n      <td>train/03_tcp_ar_a/091/00009162/s002_2012_04_09...</td>\n      <td>509.945</td>\n      <td>527.484</td>\n      <td>GNSZ</td>\n      <td>256</td>\n      <td>1075</td>\n      <td>[EEG FP1-REF, EEG FP2-REF, EEG F3-REF, EEG F4-...</td>\n    </tr>\n    <tr>\n      <th>112</th>\n      <td>train/03_tcp_ar_a/119/00011999/s007_2014_11_09...</td>\n      <td>466.269</td>\n      <td>541.203</td>\n      <td>GNSZ</td>\n      <td>256</td>\n      <td>1676</td>\n      <td>[EEG FP1-REF, EEG FP2-REF, EEG F3-REF, EEG F4-...</td>\n    </tr>\n    <tr>\n      <th>113</th>\n      <td>train/03_tcp_ar_a/119/00011999/s007_2014_11_09...</td>\n      <td>496.168</td>\n      <td>567.918</td>\n      <td>GNSZ</td>\n      <td>256</td>\n      <td>1212</td>\n      <td>[EEG FP1-REF, EEG FP2-REF, EEG F3-REF, EEG F4-...</td>\n    </tr>\n  </tbody>\n</table>\n<p>114 rows × 7 columns</p>\n</div>"
     },
     "metadata": {},
     "execution_count": 19
    }
   ],
   "source": [
    "data = c1[(c1['freq']==256) & (c1['tipo']=='GNSZ')]\n",
    "data.index = np.arange(len(data))\n",
    "data"
   ]
  },
  {
   "cell_type": "code",
   "execution_count": 20,
   "metadata": {},
   "outputs": [],
   "source": [
    "np.save('emg_gnsz_train.npy',data)"
   ]
  }
 ],
 "metadata": {
  "language_info": {
   "codemirror_mode": {
    "name": "ipython",
    "version": 3
   },
   "file_extension": ".py",
   "mimetype": "text/x-python",
   "name": "python",
   "nbconvert_exporter": "python",
   "pygments_lexer": "ipython3",
   "version": "3.7.6-final"
  },
  "orig_nbformat": 2,
  "kernelspec": {
   "name": "python37464bitbaseconda0d4e73dbffd14058a7eacf93a44c56a7",
   "display_name": "Python 3.7.4 64-bit ('base': conda)"
  }
 },
 "nbformat": 4,
 "nbformat_minor": 2
}