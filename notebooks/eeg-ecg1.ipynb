{
 "metadata": {
  "language_info": {
   "codemirror_mode": {
    "name": "ipython",
    "version": 3
   },
   "file_extension": ".py",
   "mimetype": "text/x-python",
   "name": "python",
   "nbconvert_exporter": "python",
   "pygments_lexer": "ipython3",
   "version": "3.8.2-final"
  },
  "orig_nbformat": 2,
  "kernelspec": {
   "name": "python_defaultSpec_1597708176756",
   "display_name": "Python 3.8.2 64-bit ('mestrado-ppgee': pipenv)"
  }
 },
 "nbformat": 4,
 "nbformat_minor": 2,
 "cells": [
  {
   "cell_type": "code",
   "execution_count": 1,
   "metadata": {
    "tags": []
   },
   "outputs": [],
   "source": [
    "import numpy as np\n",
    "import pandas as pd \n",
    "sys.path.append('/')\n",
    "# from functions.support import edfArray\n",
    "# from functions.features import FFT\n",
    "# from functions.classifiers import Classifiers "
   ]
  },
  {
   "cell_type": "code",
   "execution_count": 3,
   "metadata": {
    "tags": []
   },
   "outputs": [],
   "source": [
    "n = pd.DataFrame(data=np.load('/home/davi/Github/mestrado-ppgee/data/train_n_seizure.npy'),columns=['path','freq','time','montage','type'])\n",
    "\n",
    "w = pd.DataFrame(data=np.load('/home/davi/Github/mestrado-ppgee/data/train_seizure.npy'),columns=['path','start','end','event','freq','time','montage','type'])"
   ]
  },
  {
   "cell_type": "code",
   "execution_count": 5,
   "metadata": {
    "tags": []
   },
   "outputs": [],
   "source": [
    "\n",
    "ecg = ['ECG EKG-REF' ,'EEG EKG-LE' ,'EEG EKG-REF' ,'EEG EKG1-REF']\n",
    "\n",
    "ln = []\n",
    "for i in list(n.montage):\n",
    "    cont = 0\n",
    "    for ii in ecg:\n",
    "        cont+=1\n",
    "    if cont>0:   \n",
    "        ln.append(1)\n",
    "    else:\n",
    "        ln.append(0)\n",
    "\n",
    "lw = []\n",
    "for i in list(w.montage):\n",
    "    cont = 0\n",
    "    for ii in ecg:\n",
    "        cont+=1\n",
    "    if cont>0:   \n",
    "        lw.append(1)\n",
    "    else:\n",
    "        lw.append(0)\n",
    "n['ecg'] = ln \n",
    "w['ecg'] = lw \n"
   ]
  },
  {
   "cell_type": "code",
   "execution_count": 7,
   "metadata": {
    "tags": []
   },
   "outputs": [],
   "source": [
    "l1 = []\n",
    "for i in list(n.montage):\n",
    "    if 'EMG-REF' in i:\n",
    "        l1.append(1)\n",
    "    else:\n",
    "        l1.append(0)\n",
    "\n",
    "l2 = []\n",
    "for i in list(w.montage):\n",
    "    if 'EMG-REF' in i:\n",
    "        l2.append(1)\n",
    "    else:\n",
    "        l2.append(0)\n",
    "\n",
    "n['emg'] = l1 \n",
    "w['emg'] = l2 "
   ]
  },
  {
   "cell_type": "code",
   "execution_count": 10,
   "metadata": {},
   "outputs": [
    {
     "output_type": "execute_result",
     "data": {
      "text/plain": "Index(['path', 'start', 'end', 'event', 'freq', 'time', 'montage', 'type',\n       'ecg', 'emg'],\n      dtype='object')"
     },
     "metadata": {},
     "execution_count": 10
    }
   ],
   "source": [
    "w.columns"
   ]
  },
  {
   "cell_type": "code",
   "execution_count": 18,
   "metadata": {
    "tags": []
   },
   "outputs": [
    {
     "output_type": "stream",
     "name": "stdout",
     "text": "(114, 10)\n(1020, 7)\n"
    }
   ],
   "source": [
    "print(w.query('ecg==1 & emg==1').shape)\n",
    "print(n.query('ecg==1 & emg==1').shape)"
   ]
  },
  {
   "cell_type": "code",
   "execution_count": 19,
   "metadata": {
    "tags": []
   },
   "outputs": [
    {
     "output_type": "stream",
     "name": "stdout",
     "text": "FREQ\n(array([256], dtype=object), array([218]))\n(array([250, 256, 400, 512, 1000], dtype=object), array([ 687, 2522,  400,   82,   39]))\n"
    }
   ],
   "source": [
    "print('FREQ')\n",
    "print(np.unique(w.freq,return_counts=True))\n",
    "print(np.unique(n.freq,return_counts=True))\n",
    "\n",
    "# FREQ = 256"
   ]
  },
  {
   "cell_type": "code",
   "execution_count": 20,
   "metadata": {
    "tags": []
   },
   "outputs": [
    {
     "output_type": "stream",
     "name": "stdout",
     "text": "(114, 10)\n(759, 7)\n"
    }
   ],
   "source": [
    "x1 = w.query('ecg==1 & emg==1 & freq==256')\n",
    "x2 = n.query('ecg==1 & emg==1 & freq==256')\n",
    "\n",
    "print(x1.shape)\n",
    "print(x2.shape)\n"
   ]
  },
  {
   "cell_type": "code",
   "execution_count": 21,
   "metadata": {},
   "outputs": [
    {
     "output_type": "execute_result",
     "data": {
      "text/plain": "(array(['GNSZ'], dtype=object), array([114]))"
     },
     "metadata": {},
     "execution_count": 21
    }
   ],
   "source": [
    "np.unique(x1.event,return_counts=True)"
   ]
  },
  {
   "cell_type": "code",
   "execution_count": 25,
   "metadata": {
    "tags": []
   },
   "outputs": [
    {
     "output_type": "stream",
     "name": "stdout",
     "text": "(array(['01_tcp_ar', '03_tcp_ar'], dtype=object), array([93, 21]))\n(array(['01_tcp_ar', '03_tcp_ar'], dtype=object), array([587, 172]))\n"
    }
   ],
   "source": [
    "print(np.unique(x1.type,return_counts=True))\n",
    "print(np.unique(x2.type,return_counts=True))\n",
    "\n"
   ]
  },
  {
   "cell_type": "code",
   "execution_count": 30,
   "metadata": {
    "tags": []
   },
   "outputs": [
    {
     "output_type": "stream",
     "name": "stdout",
     "text": "(93, 10)\n(587, 7)\n"
    }
   ],
   "source": [
    "x1 = x1[x1['type']=='01_tcp_ar']\n",
    "x2 = x2[x2['type']=='01_tcp_ar']\n",
    "\n",
    "print(x1.shape)\n",
    "print(x2.shape)\n"
   ]
  },
  {
   "cell_type": "code",
   "execution_count": 32,
   "metadata": {},
   "outputs": [],
   "source": [
    "x1.to_pickle('all_sign_w.pkl')\n",
    "x2.to_pickle('all_sign_n.pkl')\n"
   ]
  },
  {
   "cell_type": "code",
   "execution_count": 23,
   "metadata": {
    "tags": []
   },
   "outputs": [
    {
     "output_type": "stream",
     "name": "stdout",
     "text": "FREQ\n(array([184, 263, 287, 300, 601, 631, 637, 638, 656, 659, 791, 846, 951,\n       991, 1011, 1075, 1113, 1212, 1274, 1276, 1622, 1676, 2137, 2411],\n      dtype=object), array([ 1,  1,  1,  7, 16,  1,  1,  1,  2,  2,  1,  1,  6,  1,  5,  2,  5,\n        1, 43,  2, 11,  1,  1,  1]))\n(array([11, 15, 19, 20, 21, 22, 25, 26, 30, 31, 32, 38, 39, 41, 42, 44, 47,\n       48, 49, 51, 62, 63, 67, 68, 71, 77, 79, 80, 83, 86, 94, 97, 100,\n       105, 111, 113, 118, 131, 134, 136, 137, 144, 153, 155, 166, 172,\n       176, 188, 190, 197, 206, 208, 220, 222, 230, 233, 235, 236, 238,\n       241, 242, 262, 264, 281, 290, 300, 301, 302, 303, 306, 310, 311,\n       312, 322, 331, 333, 334, 343, 353, 358, 369, 370, 371, 374, 380,\n       381, 382, 386, 392, 395, 399, 401, 414, 416, 422, 450, 452, 474,\n       476, 513, 514, 521, 534, 544, 554, 557, 572, 591, 595, 601, 603,\n       604, 611, 613, 622, 626, 633, 658, 661, 667, 671, 685, 695, 706,\n       709, 711, 719, 721, 727, 733, 740, 742, 752, 757, 758, 765, 766,\n       772, 773, 777, 793, 794, 808, 815, 819, 826, 828, 835, 837, 863,\n       867, 885, 888, 900, 912, 916, 917, 925, 936, 944, 1015, 1028, 1086,\n       1146, 1162, 1171, 1188, 1224, 1228, 1241, 1259, 1290, 1317, 1329,\n       1362, 1402, 1451, 1463, 1488, 1511, 1593, 2248, 2346, 2358, 2535,\n       2692, 2716, 2778, 3248], dtype=object), array([  1,   2,   1,   2,   1,   1,   1,   1,   1,   2,   1,   1,   2,\n         1,   1,   1,   1,   1,   1,   1,   1,   1,   1,   1,   1,   1,\n         1,   4,   1,   1,   1,   1,   1,   1,   1,   1,   1,   1,   1,\n         1,   1,   1,   1,   1,   1,   2,   1,   2,   1,   1,   1,   1,\n         1,   1,   1,   1,   1,   2,   1,   2,   1,   1,   1,   1,   1,\n       225,  25,   1,   1,   1,   1,   1,   1,   1,   1,   1,   1,   1,\n         2,   1,   2,   2,   2,   1,   1,   1,   1,   1,   1,   1,   1,\n         1,   1,   1,   1,   1,   1,   1,   1,   1,   1,   1,   1,   1,\n         1,   1,   1,   1,   1, 305,   1,   1,   1,   1,   1,   1,   1,\n         1,   1,   1,   1,   1,   1,   1,   1,   1,   1,   1,   1,   1,\n         1,   1,   1,   1,   1,   1,   1,   1,   1,   1,   1,   1,   1,\n         1,   1,   1,   1,   1,   1,   1,   1,   1,   1,   2,   1,   1,\n         1,   1,   1,   1,   1,   2,   1,   1,   1,   1,   1,   1,   1,\n         1,   1,   1,   1,   2,   1,   1,   1,   1,   1,   1,   1,   1,\n         1,   1,   1,   1,   1,   1,   1]))\n"
    }
   ],
   "source": [
    "# print('FREQ')\n",
    "# print(np.unique(x1.time,return_counts=True))\n",
    "# print(np.unique(x2.time,return_counts=True))\n",
    "\n",
    "# # FREQ = 256"
   ]
  },
  {
   "cell_type": "code",
   "execution_count": 24,
   "metadata": {
    "tags": []
   },
   "outputs": [],
   "source": [
    "# print('FREQ')\n",
    "# print(np.unique(ecg_w.freq,return_counts=True))\n",
    "# print(np.unique(ecg_n.freq,return_counts=True))\n",
    "\n",
    "# # FREQ = 256"
   ]
  },
  {
   "cell_type": "code",
   "execution_count": 17,
   "metadata": {},
   "outputs": [
    {
     "output_type": "execute_result",
     "data": {
      "text/plain": "                                                   path    start      end  \\\n0     train/01_tcp_ar/004/00000492/s003_2003_07_18/0...   6.2825  35.8875   \n1     train/01_tcp_ar/004/00000492/s003_2003_07_18/0...  33.1425       53   \n2     train/01_tcp_ar/004/00000492/s003_2003_07_18/0...   9.7925   29.125   \n3     train/01_tcp_ar/004/00000492/s003_2003_07_18/0...  10.2775  35.7775   \n4     train/01_tcp_ar/004/00000492/s003_2003_07_18/0...  102.252   142.98   \n...                                                 ...      ...      ...   \n2365  train/03_tcp_ar_a/131/00013145/s001_2015_08_31...   3.8594  44.4648   \n2366  train/03_tcp_ar_a/131/00013145/s002_2015_08_31...  301.598   376.16   \n2367  train/03_tcp_ar_a/131/00013145/s003_2015_09_01...  316.262  399.719   \n2368  train/03_tcp_ar_a/131/00013145/s003_2015_09_01...  300.559  385.059   \n2369  train/03_tcp_ar_a/131/00013145/s003_2015_09_01...   302.41  393.488   \n\n     event freq time                                            montage  \\\n0     GNSZ  400  165  [EEG FP1-REF, EEG FP2-REF, EEG F3-REF, EEG F4-...   \n1     GNSZ  400  184  [EEG FP1-REF, EEG FP2-REF, EEG F3-REF, EEG F4-...   \n2     GNSZ  400  129  [EEG FP1-REF, EEG FP2-REF, EEG F3-REF, EEG F4-...   \n3     GNSZ  400  339  [EEG FP1-REF, EEG FP2-REF, EEG F3-REF, EEG F4-...   \n4     GNSZ  400  339  [EEG FP1-REF, EEG FP2-REF, EEG F3-REF, EEG F4-...   \n...    ...  ...  ...                                                ...   \n2365  FNSZ  256   50  [EEG FP1-REF, EEG FP2-REF, EEG F3-REF, EEG F4-...   \n2366  FNSZ  256  702  [EEG FP1-REF, EEG FP2-REF, EEG F3-REF, EEG F4-...   \n2367  FNSZ  256  765  [EEG FP1-REF, EEG FP2-REF, EEG F3-REF, EEG F4-...   \n2368  FNSZ  256  691  [EEG FP1-REF, EEG FP2-REF, EEG F3-REF, EEG F4-...   \n2369  FNSZ  256  693  [EEG FP1-REF, EEG FP2-REF, EEG F3-REF, EEG F4-...   \n\n           type  \n0     01_tcp_ar  \n1     01_tcp_ar  \n2     01_tcp_ar  \n3     01_tcp_ar  \n4     01_tcp_ar  \n...         ...  \n2365  03_tcp_ar  \n2366  03_tcp_ar  \n2367  03_tcp_ar  \n2368  03_tcp_ar  \n2369  03_tcp_ar  \n\n[2370 rows x 8 columns]",
      "text/html": "<div>\n<style scoped>\n    .dataframe tbody tr th:only-of-type {\n        vertical-align: middle;\n    }\n\n    .dataframe tbody tr th {\n        vertical-align: top;\n    }\n\n    .dataframe thead th {\n        text-align: right;\n    }\n</style>\n<table border=\"1\" class=\"dataframe\">\n  <thead>\n    <tr style=\"text-align: right;\">\n      <th></th>\n      <th>path</th>\n      <th>start</th>\n      <th>end</th>\n      <th>event</th>\n      <th>freq</th>\n      <th>time</th>\n      <th>montage</th>\n      <th>type</th>\n    </tr>\n  </thead>\n  <tbody>\n    <tr>\n      <th>0</th>\n      <td>train/01_tcp_ar/004/00000492/s003_2003_07_18/0...</td>\n      <td>6.2825</td>\n      <td>35.8875</td>\n      <td>GNSZ</td>\n      <td>400</td>\n      <td>165</td>\n      <td>[EEG FP1-REF, EEG FP2-REF, EEG F3-REF, EEG F4-...</td>\n      <td>01_tcp_ar</td>\n    </tr>\n    <tr>\n      <th>1</th>\n      <td>train/01_tcp_ar/004/00000492/s003_2003_07_18/0...</td>\n      <td>33.1425</td>\n      <td>53</td>\n      <td>GNSZ</td>\n      <td>400</td>\n      <td>184</td>\n      <td>[EEG FP1-REF, EEG FP2-REF, EEG F3-REF, EEG F4-...</td>\n      <td>01_tcp_ar</td>\n    </tr>\n    <tr>\n      <th>2</th>\n      <td>train/01_tcp_ar/004/00000492/s003_2003_07_18/0...</td>\n      <td>9.7925</td>\n      <td>29.125</td>\n      <td>GNSZ</td>\n      <td>400</td>\n      <td>129</td>\n      <td>[EEG FP1-REF, EEG FP2-REF, EEG F3-REF, EEG F4-...</td>\n      <td>01_tcp_ar</td>\n    </tr>\n    <tr>\n      <th>3</th>\n      <td>train/01_tcp_ar/004/00000492/s003_2003_07_18/0...</td>\n      <td>10.2775</td>\n      <td>35.7775</td>\n      <td>GNSZ</td>\n      <td>400</td>\n      <td>339</td>\n      <td>[EEG FP1-REF, EEG FP2-REF, EEG F3-REF, EEG F4-...</td>\n      <td>01_tcp_ar</td>\n    </tr>\n    <tr>\n      <th>4</th>\n      <td>train/01_tcp_ar/004/00000492/s003_2003_07_18/0...</td>\n      <td>102.252</td>\n      <td>142.98</td>\n      <td>GNSZ</td>\n      <td>400</td>\n      <td>339</td>\n      <td>[EEG FP1-REF, EEG FP2-REF, EEG F3-REF, EEG F4-...</td>\n      <td>01_tcp_ar</td>\n    </tr>\n    <tr>\n      <th>...</th>\n      <td>...</td>\n      <td>...</td>\n      <td>...</td>\n      <td>...</td>\n      <td>...</td>\n      <td>...</td>\n      <td>...</td>\n      <td>...</td>\n    </tr>\n    <tr>\n      <th>2365</th>\n      <td>train/03_tcp_ar_a/131/00013145/s001_2015_08_31...</td>\n      <td>3.8594</td>\n      <td>44.4648</td>\n      <td>FNSZ</td>\n      <td>256</td>\n      <td>50</td>\n      <td>[EEG FP1-REF, EEG FP2-REF, EEG F3-REF, EEG F4-...</td>\n      <td>03_tcp_ar</td>\n    </tr>\n    <tr>\n      <th>2366</th>\n      <td>train/03_tcp_ar_a/131/00013145/s002_2015_08_31...</td>\n      <td>301.598</td>\n      <td>376.16</td>\n      <td>FNSZ</td>\n      <td>256</td>\n      <td>702</td>\n      <td>[EEG FP1-REF, EEG FP2-REF, EEG F3-REF, EEG F4-...</td>\n      <td>03_tcp_ar</td>\n    </tr>\n    <tr>\n      <th>2367</th>\n      <td>train/03_tcp_ar_a/131/00013145/s003_2015_09_01...</td>\n      <td>316.262</td>\n      <td>399.719</td>\n      <td>FNSZ</td>\n      <td>256</td>\n      <td>765</td>\n      <td>[EEG FP1-REF, EEG FP2-REF, EEG F3-REF, EEG F4-...</td>\n      <td>03_tcp_ar</td>\n    </tr>\n    <tr>\n      <th>2368</th>\n      <td>train/03_tcp_ar_a/131/00013145/s003_2015_09_01...</td>\n      <td>300.559</td>\n      <td>385.059</td>\n      <td>FNSZ</td>\n      <td>256</td>\n      <td>691</td>\n      <td>[EEG FP1-REF, EEG FP2-REF, EEG F3-REF, EEG F4-...</td>\n      <td>03_tcp_ar</td>\n    </tr>\n    <tr>\n      <th>2369</th>\n      <td>train/03_tcp_ar_a/131/00013145/s003_2015_09_01...</td>\n      <td>302.41</td>\n      <td>393.488</td>\n      <td>FNSZ</td>\n      <td>256</td>\n      <td>693</td>\n      <td>[EEG FP1-REF, EEG FP2-REF, EEG F3-REF, EEG F4-...</td>\n      <td>03_tcp_ar</td>\n    </tr>\n  </tbody>\n</table>\n<p>2370 rows × 8 columns</p>\n</div>"
     },
     "metadata": {},
     "execution_count": 17
    }
   ],
   "source": []
  }
 ]
}