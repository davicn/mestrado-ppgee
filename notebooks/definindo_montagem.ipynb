{
 "cells": [
  {
   "cell_type": "markdown",
   "metadata": {},
   "source": [
    "# Definindo Montagem de EEG"
   ]
  },
  {
   "cell_type": "code",
   "execution_count": 3,
   "metadata": {},
   "outputs": [
    {
     "output_type": "execute_result",
     "data": {
      "text/plain": "'/home/davi/Documentos/Github/mestrado-ppgee/'"
     },
     "metadata": {},
     "execution_count": 3
    }
   ],
   "source": [
    "import numpy as np \n",
    "import pandas as pd \n",
    "import os \n",
    "\n",
    "path = os.getcwd().replace('notebooks','')\n",
    "path"
   ]
  },
  {
   "cell_type": "code",
   "execution_count": 25,
   "metadata": {},
   "outputs": [
    {
     "output_type": "stream",
     "name": "stdout",
     "text": "2370 3730\n"
    }
   ],
   "source": [
    "c1 = pd.DataFrame(\n",
    "    data=np.load(path+\"data/train_seizure.npy\"),\n",
    "    columns=['path','inicio','fim','tipo','freq','tempo','montage'])\n",
    "\n",
    "c2 = pd.DataFrame(\n",
    "    data=np.load(path+\"data/train_n_seizure.npy\"),\n",
    "    columns=['path','freq','tempo','montage'])\n",
    "\n",
    "print(len(c1),len(c2))"
   ]
  },
  {
   "cell_type": "code",
   "execution_count": 24,
   "metadata": {},
   "outputs": [
    {
     "output_type": "stream",
     "name": "stdout",
     "text": "(array([250, 256, 400, 512, 1000], dtype=object), array([ 825, 1217,  276,   16,   36]))\n(array([250, 256, 400, 512, 1000], dtype=object), array([ 687, 2522,  400,   82,   39]))\n"
    }
   ],
   "source": [
    "# Frequencia amostral\n",
    "\n",
    "print(np.unique(c1['freq'],return_counts=True))\n",
    "print(np.unique(c2['freq'],return_counts=True))\n"
   ]
  },
  {
   "cell_type": "code",
   "execution_count": 31,
   "metadata": {},
   "outputs": [
    {
     "output_type": "execute_result",
     "data": {
      "text/plain": "(array(['CPSZ', 'FNSZ', 'GNSZ', 'SPSZ', 'TCSZ', 'TNSZ'], dtype=object),\n array([ 90, 883, 218,   8,   1,  17]))"
     },
     "metadata": {},
     "execution_count": 31
    }
   ],
   "source": [
    "# Tipo de crise\n",
    "\n",
    "np.unique(c1[c1['freq']==256].loc[:,'tipo'],return_counts=True)\n",
    "\n"
   ]
  },
  {
   "cell_type": "code",
   "execution_count": null,
   "metadata": {},
   "outputs": [],
   "source": []
  }
 ],
 "metadata": {
  "language_info": {
   "codemirror_mode": {
    "name": "ipython",
    "version": 3
   },
   "file_extension": ".py",
   "mimetype": "text/x-python",
   "name": "python",
   "nbconvert_exporter": "python",
   "pygments_lexer": "ipython3",
   "version": "3.7.6-final"
  },
  "orig_nbformat": 2,
  "kernelspec": {
   "name": "python37464bitbaseconda0d4e73dbffd14058a7eacf93a44c56a7",
   "display_name": "Python 3.7.4 64-bit ('base': conda)"
  }
 },
 "nbformat": 4,
 "nbformat_minor": 2
}