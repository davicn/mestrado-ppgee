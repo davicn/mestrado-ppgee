{
 "cells": [
  {
   "cell_type": "markdown",
   "metadata": {},
   "source": [
    "# Analise ECG 1"
   ]
  },
  {
   "cell_type": "code",
   "execution_count": 12,
   "metadata": {},
   "outputs": [
    {
     "output_type": "stream",
     "name": "stdout",
     "text": "3395 2129\n"
    }
   ],
   "source": [
    "import numpy as np \n",
    "import pandas as pd \n",
    "\n",
    "# Sem crise\n",
    "x1 = pd.DataFrame(\n",
    "    data=np.load('/home/davi/Documentos/Github/mestrado-ppgee/data/ecg_train_n_seizure.npy'),\n",
    "    columns=['path','freq','time','montage'])\n",
    "\n",
    "# Com Crise\n",
    "x2 = pd.DataFrame(\n",
    "    data=np.load('/home/davi/Documentos/Github/mestrado-ppgee/data/ecg_train_seizure.npy'),\n",
    "    columns=['path','inicio','fim','tipo','freq','time','montage'])\n",
    "\n",
    "print(x1.shape[0],x2.shape[0])"
   ]
  },
  {
   "cell_type": "code",
   "execution_count": 17,
   "metadata": {},
   "outputs": [
    {
     "output_type": "stream",
     "name": "stdout",
     "text": "(array([250, 256, 400, 512, 1000], dtype=object), array([ 825, 1217,   35,   16,   36]))\n(array([250, 256, 400, 512, 1000], dtype=object), array([ 687, 2522,   65,   82,   39]))\n"
    }
   ],
   "source": [
    "print(np.unique(x2['freq'],return_counts=True))\n",
    "\n",
    "print(np.unique(x1['freq'],return_counts=True))\n"
   ]
  },
  {
   "cell_type": "code",
   "execution_count": 28,
   "metadata": {},
   "outputs": [
    {
     "output_type": "execute_result",
     "data": {
      "text/plain": "(array(['CPSZ', 'FNSZ', 'GNSZ', 'SPSZ', 'TCSZ', 'TNSZ'], dtype=object),\n array([ 90, 883, 218,   8,   1,  17]))"
     },
     "metadata": {},
     "execution_count": 28
    }
   ],
   "source": [
    "np.unique(x2[x2['freq']==256].loc[:,'tipo'],return_counts=True)"
   ]
  }
 ],
 "metadata": {
  "language_info": {
   "codemirror_mode": {
    "name": "ipython",
    "version": 3
   },
   "file_extension": ".py",
   "mimetype": "text/x-python",
   "name": "python",
   "nbconvert_exporter": "python",
   "pygments_lexer": "ipython3",
   "version": "3.7.6-final"
  },
  "orig_nbformat": 2,
  "kernelspec": {
   "name": "python37464bitbaseconda0d4e73dbffd14058a7eacf93a44c56a7",
   "display_name": "Python 3.7.4 64-bit ('base': conda)"
  }
 },
 "nbformat": 4,
 "nbformat_minor": 2
}